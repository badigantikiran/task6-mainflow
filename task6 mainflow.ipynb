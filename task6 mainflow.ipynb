{
  "metadata": {
    "kernelspec": {
      "name": "python",
      "display_name": "Python (Pyodide)",
      "language": "python"
    },
    "language_info": {
      "codemirror_mode": {
        "name": "python",
        "version": 3
      },
      "file_extension": ".py",
      "mimetype": "text/x-python",
      "name": "python",
      "nbconvert_exporter": "python",
      "pygments_lexer": "ipython3",
      "version": "3.8"
    }
  },
  "nbformat_minor": 4,
  "nbformat": 4,
  "cells": [
    {
      "cell_type": "code",
      "source": "import numpy as np # linear algebra\nimport pandas as pd # data processing, CSV file I/O (e.g. pd.read_csv)\nimport seaborn as sns\nfrom matplotlib import pyplot as plt\n\nfrom sklearn.preprocessing import LabelEncoder\nfrom sklearn.model_selection import train_test_split\nfrom sklearn.linear_model import LinearRegression\nfrom sklearn.tree import DecisionTreeRegressor\nfrom sklearn.ensemble import RandomForestRegressor\nfrom sklearn.metrics import mean_squared_error, mean_squared_log_error",
      "metadata": {
        "trusted": true
      },
      "outputs": [],
      "execution_count": null
    },
    {
      "cell_type": "code",
      "source": "data = pd.read_csv('../input/world-bank-data-1960-to-2016-extended/countries-of-the-world/countries of the world.csv',decimal=',')\ndata.head()",
      "metadata": {
        "trusted": true
      },
      "outputs": [],
      "execution_count": null
    },
    {
      "cell_type": "code",
      "source": "\tCountry\tRegion\tPopulation\tArea (sq. mi.)\tPop. Density (per sq. mi.)\tCoastline (coast/area ratio)\tNet migration\tInfant mortality (per 1000 births)\tGDP ($ per capita)\tLiteracy (%)\tPhones (per 1000)\tArable (%)\tCrops (%)\tOther (%)\tClimate\tBirthrate\tDeathrate\tAgriculture\tIndustry\tService\n0\tAfghanistan\tASIA (EX. NEAR EAST)\t31056997\t647500\t48.0\t0.00\t23.06\t163.07\t700.0\t36.0\t3.2\t12.13\t0.22\t87.65\t1.0\t46.60\t20.34\t0.380\t0.240\t0.380\n1\tAlbania\tEASTERN EUROPE\t3581655\t28748\t124.6\t1.26\t-4.93\t21.52\t4500.0\t86.5\t71.2\t21.09\t4.42\t74.49\t3.0\t15.11\t5.22\t0.232\t0.188\t0.579\n2\tAlgeria\tNORTHERN AFRICA\t32930091\t2381740\t13.8\t0.04\t-0.39\t31.00\t6000.0\t70.0\t78.1\t3.22\t0.25\t96.53\t1.0\t17.14\t4.61\t0.101\t0.600\t0.298\n3\tAmerican Samoa\tOCEANIA\t57794\t199\t290.4\t58.29\t-20.71\t9.27\t8000.0\t97.0\t259.5\t10.00\t15.00\t75.00\t2.0\t22.46\t3.27\tNaN\tNaN\tNaN\n4\tAndorra\tWESTERN EUROPE\t71201\t468\t152.1\t0.00\t6.60\t4.05\t19000.0\t100.0\t497.2\t2.22\t0.00\t97.78\t3.0\t8.71\t6.25\tNaN\tNaN\tNaN",
      "metadata": {
        "trusted": true
      },
      "outputs": [],
      "execution_count": null
    },
    {
      "cell_type": "code",
      "source": "data.info()",
      "metadata": {
        "trusted": true
      },
      "outputs": [],
      "execution_count": null
    },
    {
      "cell_type": "code",
      "source": "<class 'pandas.core.frame.DataFrame'>\nRangeIndex: 227 entries, 0 to 226\nData columns (total 20 columns):\n #   Column                              Non-Null Count  Dtype  \n---  ------                              --------------  -----  \n 0   Country                             227 non-null    object \n 1   Region                              227 non-null    object \n 2   Population                          227 non-null    int64  \n 3   Area (sq. mi.)                      227 non-null    int64  \n 4   Pop. Density (per sq. mi.)          227 non-null    float64\n 5   Coastline (coast/area ratio)        227 non-null    float64\n 6   Net migration                       224 non-null    float64\n 7   Infant mortality (per 1000 births)  224 non-null    float64\n 8   GDP ($ per capita)                  226 non-null    float64\n 9   Literacy (%)                        209 non-null    float64\n 10  Phones (per 1000)                   223 non-null    float64\n 11  Arable (%)                          225 non-null    float64\n 12  Crops (%)                           225 non-null    float64\n 13  Other (%)                           225 non-null    float64\n 14  Climate                             205 non-null    float64\n 15  Birthrate                           224 non-null    float64\n 16  Deathrate                           223 non-null    float64\n 17  Agriculture                         212 non-null    float64\n 18  Industry                            211 non-null    float64\n 19  Service                             212 non-null    float64\ndtypes: float64(16), int64(2), object(2)\nmemory usage: 35.6+ KB",
      "metadata": {
        "trusted": true
      },
      "outputs": [],
      "execution_count": null
    },
    {
      "cell_type": "code",
      "source": "data.describe(include='all')",
      "metadata": {
        "trusted": true
      },
      "outputs": [],
      "execution_count": null
    },
    {
      "cell_type": "code",
      "source": "",
      "metadata": {
        "trusted": true
      },
      "outputs": [],
      "execution_count": null
    }
  ]
}